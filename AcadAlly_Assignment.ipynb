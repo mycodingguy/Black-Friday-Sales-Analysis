{
  "nbformat": 4,
  "nbformat_minor": 0,
  "metadata": {
    "colab": {
      "provenance": [],
      "authorship_tag": "ABX9TyP6dxn37vKyfR0d+BdHNN6b",
      "include_colab_link": true
    },
    "kernelspec": {
      "name": "python3",
      "display_name": "Python 3"
    },
    "language_info": {
      "name": "python"
    }
  },
  "cells": [
    {
      "cell_type": "markdown",
      "metadata": {
        "id": "view-in-github",
        "colab_type": "text"
      },
      "source": [
        "<a href=\"https://colab.research.google.com/github/mycodingguy/Black-Friday-Sales-Analysis/blob/main/AcadAlly_Assignment.ipynb\" target=\"_parent\"><img src=\"https://colab.research.google.com/assets/colab-badge.svg\" alt=\"Open In Colab\"/></a>"
      ]
    },
    {
      "cell_type": "markdown",
      "source": [
        "# **AcadAlly Assignment**\n",
        "\n",
        "---\n",
        "\n",
        "\\"
      ],
      "metadata": {
        "id": "wJipZSvitn0t"
      }
    },
    {
      "cell_type": "code",
      "source": [
        "# Importing libraries\n",
        "import pandas as pd\n",
        "import matplotlib.pyplot as plt\n",
        "import seaborn as sns"
      ],
      "metadata": {
        "id": "SlMgpcfWtwhh"
      },
      "execution_count": 15,
      "outputs": []
    },
    {
      "cell_type": "code",
      "source": [
        "# Load the data\n",
        "file_path = 'Data Analyst Assignement Acadally.xlsx'\n",
        "attempts_data = pd.read_excel(file_path, sheet_name='Attempts Data')\n",
        "chapter_data = pd.read_excel(file_path, sheet_name='Chapter Data')"
      ],
      "metadata": {
        "id": "blkZgl60uL9U"
      },
      "execution_count": 2,
      "outputs": []
    },
    {
      "cell_type": "code",
      "source": [
        "# Preview data\n",
        "print(\"Attempts Data:\")\n",
        "print(attempts_data.head())\n",
        "\n",
        "print(\"\\nChapter Data:\")\n",
        "print(chapter_data.head())"
      ],
      "metadata": {
        "colab": {
          "base_uri": "https://localhost:8080/"
        },
        "id": "v4bfG9nRuPqr",
        "outputId": "23170f21-92ad-410d-a787-75c00a964a37"
      },
      "execution_count": 3,
      "outputs": [
        {
          "output_type": "stream",
          "name": "stdout",
          "text": [
            "Attempts Data:\n",
            "   school_id  user_id  section_id  chapter_id  topic_id quiz_type    qid  \\\n",
            "0       1124   132591        3677       16228     16229        PE  13865   \n",
            "1       1124   132591        3677       16228     16229        PE    560   \n",
            "2       1124   132591        3677       16228     16229        PE  13872   \n",
            "3       1096   121315        2706       21994     21999        PE  16155   \n",
            "4       1096   121315        2706       21994     21999        PE  16223   \n",
            "\n",
            "  question_status learning_unit_id Bloom taxonomy       date             time  \n",
            "0         correct         LU005214          apply 2024-10-03  14:36:54.975000  \n",
            "1         correct         LU005214          apply 2024-10-03  14:36:54.975000  \n",
            "2         correct         LU005214        analyse 2024-10-03  14:36:54.975000  \n",
            "3         correct         LU005381     understand 2024-10-03  14:37:00.403000  \n",
            "4         correct         LU005377       remember 2024-10-03  14:37:00.403000  \n",
            "\n",
            "Chapter Data:\n",
            "   section_id  chapter          start_time            end_time\n",
            "0        1981    16737 2025-01-17 07:48:35 2025-01-28 07:49:18\n",
            "1        2777    14641 2025-01-11 09:07:42 2025-01-28 04:51:44\n",
            "2        2776    14641 2025-01-13 12:40:31 2025-01-28 04:51:21\n",
            "3        2120     7595 2025-01-27 19:06:07 2025-01-27 22:04:11\n",
            "4        3134    25300 2025-01-05 18:23:18 2025-01-27 21:39:46\n"
          ]
        }
      ]
    },
    {
      "cell_type": "markdown",
      "source": [
        "**1. Data Cleaning**"
      ],
      "metadata": {
        "id": "1moRlPU1uoSz"
      }
    },
    {
      "cell_type": "code",
      "source": [
        "# Checking for missing values\n",
        "print(\"Missing values in Attempts Data:\")\n",
        "print(attempts_data.isnull().sum())\n",
        "\n",
        "print(\"\\nMissing values in Chapter Data:\")\n",
        "print(chapter_data.isnull().sum())"
      ],
      "metadata": {
        "colab": {
          "base_uri": "https://localhost:8080/"
        },
        "id": "eYU6LfCWukSS",
        "outputId": "68d53cfb-0ea9-4f72-c15e-c2d853d05012"
      },
      "execution_count": 6,
      "outputs": [
        {
          "output_type": "stream",
          "name": "stdout",
          "text": [
            "Missing values in Attempts Data:\n",
            "school_id           0\n",
            "user_id             0\n",
            "section_id          0\n",
            "chapter_id          0\n",
            "topic_id            0\n",
            "quiz_type           0\n",
            "qid                 0\n",
            "question_status     0\n",
            "learning_unit_id    0\n",
            "Bloom taxonomy      0\n",
            "date                0\n",
            "time                0\n",
            "dtype: int64\n",
            "\n",
            "Missing values in Chapter Data:\n",
            "section_id      0\n",
            "chapter         0\n",
            "start_time      0\n",
            "end_time      743\n",
            "dtype: int64\n"
          ]
        }
      ]
    },
    {
      "cell_type": "code",
      "source": [
        "# Removing duplicate entries if any\n",
        "attempts_data.drop_duplicates(inplace=True)\n",
        "chapter_data.drop_duplicates(inplace=True)"
      ],
      "metadata": {
        "id": "qPRzUnHevDR6"
      },
      "execution_count": 7,
      "outputs": []
    },
    {
      "cell_type": "code",
      "source": [
        "# Ensuring correct data types\n",
        "chapter_data['start_time'] = pd.to_datetime(chapter_data['start_time'])\n",
        "chapter_data['end_time'] = pd.to_datetime(chapter_data['end_time'])\n",
        "attempts_data['date'] = pd.to_datetime(attempts_data['date'])"
      ],
      "metadata": {
        "id": "m8uvYh0OvjqQ"
      },
      "execution_count": 8,
      "outputs": []
    },
    {
      "cell_type": "markdown",
      "source": [
        "**2. Identifying Primary Keys**<br>\n",
        "For Attempts Data: combination of 'user_id', 'qid', and 'date' can be considered unique<br>\n",
        "For Chapter Data: 'section_id' and 'chapter' combination can serve as a primary key"
      ],
      "metadata": {
        "id": "iPC8mE_awCDd"
      }
    },
    {
      "cell_type": "markdown",
      "source": [
        "**3. Top 5 sections with high accuracy percentage**"
      ],
      "metadata": {
        "id": "A20vcQwfwILV"
      }
    },
    {
      "cell_type": "code",
      "source": [
        "accuracy_per_section = attempts_data.groupby('section_id')['question_status'].value_counts(normalize=True).unstack().fillna(0)\n",
        "accuracy_per_section['accuracy_percentage'] = accuracy_per_section['correct'] * 100\n",
        "top_5_sections = accuracy_per_section.sort_values(by='accuracy_percentage', ascending=False).head(5)\n",
        "print(\"\\nTop 5 Sections with High Accuracy Percentage:\")\n",
        "print(top_5_sections)"
      ],
      "metadata": {
        "colab": {
          "base_uri": "https://localhost:8080/"
        },
        "id": "h5pTIsZ3wNlZ",
        "outputId": "bb461425-f183-4ca2-d85d-13a22b4b1816"
      },
      "execution_count": 9,
      "outputs": [
        {
          "output_type": "stream",
          "name": "stdout",
          "text": [
            "\n",
            "Top 5 Sections with High Accuracy Percentage:\n",
            "question_status  correct  wrong  accuracy_percentage\n",
            "section_id                                          \n",
            "1981                 1.0    0.0                100.0\n",
            "3660                 1.0    0.0                100.0\n",
            "3677                 1.0    0.0                100.0\n",
            "2851                 1.0    0.0                100.0\n",
            "2626                 1.0    0.0                100.0\n"
          ]
        }
      ]
    },
    {
      "cell_type": "markdown",
      "source": [
        "**4. Bottom 2 learning units with low accuracy in application level questions**"
      ],
      "metadata": {
        "id": "b0ViVksDwVIs"
      }
    },
    {
      "cell_type": "code",
      "source": [
        "application_level = attempts_data[attempts_data['Bloom taxonomy'].str.lower() == 'apply']\n",
        "low_accuracy_units = application_level.groupby('learning_unit_id')['question_status'].value_counts(normalize=True).unstack().fillna(0)\n",
        "low_accuracy_units['accuracy_percentage'] = low_accuracy_units['correct'] * 100\n",
        "bottom_2_units = low_accuracy_units.sort_values(by='accuracy_percentage').head(2)\n",
        "print(\"\\nBottom 2 Learning Units with Low Accuracy in Application Level Questions:\")\n",
        "print(bottom_2_units)"
      ],
      "metadata": {
        "colab": {
          "base_uri": "https://localhost:8080/"
        },
        "id": "9GI_yKK5wXSB",
        "outputId": "ba81f957-10b9-4495-c0f7-c158b8b874a6"
      },
      "execution_count": 10,
      "outputs": [
        {
          "output_type": "stream",
          "name": "stdout",
          "text": [
            "\n",
            "Bottom 2 Learning Units with Low Accuracy in Application Level Questions:\n",
            "question_status   correct  wrong  accuracy_percentage\n",
            "learning_unit_id                                     \n",
            "LU000068              0.0    1.0                  0.0\n",
            "LU000721              0.0    1.0                  0.0\n"
          ]
        }
      ]
    },
    {
      "cell_type": "markdown",
      "source": [
        "**5. Percentage of questions attempted before chapter was ended**"
      ],
      "metadata": {
        "id": "clHmDHN8wdUs"
      }
    },
    {
      "cell_type": "code",
      "source": [
        "merged_data = pd.merge(attempts_data, chapter_data, on='section_id', how='inner')\n",
        "merged_data['attempt_datetime'] = pd.to_datetime(merged_data['date'].astype(str) + ' ' + merged_data['time'].astype(str))\n",
        "\n",
        "before_chapter_end = merged_data[merged_data['attempt_datetime'] < merged_data['end_time']]\n",
        "percentage_before_end = (len(before_chapter_end) / len(merged_data)) * 100\n",
        "print(\"\\nPercentage of Questions Attempted Before Chapter Ended:\", percentage_before_end)"
      ],
      "metadata": {
        "colab": {
          "base_uri": "https://localhost:8080/"
        },
        "id": "McBiKXjbwf_Z",
        "outputId": "e666b5b6-bbb2-4738-b1ec-f9ea069fd4d6"
      },
      "execution_count": 11,
      "outputs": [
        {
          "output_type": "stream",
          "name": "stdout",
          "text": [
            "\n",
            "Percentage of Questions Attempted Before Chapter Ended: 38.150059547439454\n"
          ]
        }
      ]
    },
    {
      "cell_type": "markdown",
      "source": [
        "**6. Visualizing Attempt Behaviour Across Time of the Day**"
      ],
      "metadata": {
        "id": "QEmI-MHVwkXc"
      }
    },
    {
      "cell_type": "code",
      "source": [
        "merged_data['hour_of_day'] = merged_data['attempt_datetime'].dt.hour\n",
        "\n",
        "plt.figure(figsize=(12, 6))\n",
        "sns.countplot(x='hour_of_day', data=merged_data, palette='viridis')\n",
        "plt.title('Attempt Behaviour Across Time of the Day')\n",
        "plt.xlabel('Hour of the Day')\n",
        "plt.ylabel('Number of Attempts')\n",
        "plt.show()"
      ],
      "metadata": {
        "colab": {
          "base_uri": "https://localhost:8080/",
          "height": 651
        },
        "id": "k4rfTbrewmiZ",
        "outputId": "27572288-9d54-418f-ce96-9445b019eb76"
      },
      "execution_count": 12,
      "outputs": [
        {
          "output_type": "stream",
          "name": "stderr",
          "text": [
            "<ipython-input-12-82e183656565>:4: FutureWarning: \n",
            "\n",
            "Passing `palette` without assigning `hue` is deprecated and will be removed in v0.14.0. Assign the `x` variable to `hue` and set `legend=False` for the same effect.\n",
            "\n",
            "  sns.countplot(x='hour_of_day', data=merged_data, palette='viridis')\n"
          ]
        },
        {
          "output_type": "display_data",
          "data": {
            "text/plain": [
              "<Figure size 1200x600 with 1 Axes>"
            ],
            "image/png": "[encoded data removed]"
          },
          "metadata": {}
        }
      ]
    },
    {
      "cell_type": "markdown",
      "source": [
        "**7. Insights Based on Analysis**"
      ],
      "metadata": {
        "id": "FVDG19UtwsmN"
      }
    },
    {
      "cell_type": "code",
      "source": [
        "insights = \"\"\"\n",
        "Insights:\n",
        "1. Data cleaning revealed minimal missing values and duplicate entries, which were removed.\n",
        "2. Primary keys identified: ('user_id', 'qid', 'date') for Attempts Data and ('section_id', 'chapter') for Chapter Data.\n",
        "3. The top 5 sections with high accuracy suggest strong student performance in those areas.\n",
        "4. The bottom 2 learning units with low accuracy in application questions highlight areas for targeted improvement.\n",
        "5. A significant percentage of attempts occur before chapters are officially ended, indicating proactive learning.\n",
        "6. Attempt behaviour peaks around specific hours, suggesting optimal study times for most students.\n",
        "\"\"\"\n",
        "\n",
        "print(insights)"
      ],
      "metadata": {
        "colab": {
          "base_uri": "https://localhost:8080/"
        },
        "id": "j53EgDq2w6pr",
        "outputId": "32d55a85-3821-41ca-a546-07e13840ad24"
      },
      "execution_count": 14,
      "outputs": [
        {
          "output_type": "stream",
          "name": "stdout",
          "text": [
            "\n",
            "Insights:\n",
            "1. Data cleaning revealed minimal missing values and duplicate entries, which were removed.\n",
            "2. Primary keys identified: ('user_id', 'qid', 'date') for Attempts Data and ('section_id', 'chapter') for Chapter Data.\n",
            "3. The top 5 sections with high accuracy suggest strong student performance in those areas.\n",
            "4. The bottom 2 learning units with low accuracy in application questions highlight areas for targeted improvement.\n",
            "5. A significant percentage of attempts occur before chapters are officially ended, indicating proactive learning.\n",
            "6. Attempt behaviour peaks around specific hours, suggesting optimal study times for most students.\n",
            "\n"
          ]
        }
      ]
    }
  ]
}